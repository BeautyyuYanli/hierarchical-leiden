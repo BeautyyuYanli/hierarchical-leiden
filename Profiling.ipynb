{
 "cells": [
  {
   "cell_type": "markdown",
   "id": "affd582c",
   "metadata": {},
   "source": [
    "# Some performance measurements"
   ]
  },
  {
   "cell_type": "code",
   "execution_count": 1,
   "id": "fef6af20",
   "metadata": {},
   "outputs": [],
   "source": [
    "import random\n",
    "\n",
    "import networkx as nx\n",
    "\n",
    "from community_detection.utils import Partition, preprocess_graph\n",
    "from community_detection.leiden import leiden\n",
    "from community_detection.louvain import louvain\n",
    "from community_detection.quality_metrics import CPM, Modularity\n",
    "\n",
    "random.seed(42)"
   ]
  },
  {
   "cell_type": "markdown",
   "id": "1f09635f",
   "metadata": {},
   "source": [
    "The Jazz graph is provided by the `jazz.py` file in the `datasets` directory:"
   ]
  },
  {
   "cell_type": "code",
   "execution_count": 2,
   "id": "2cd21b73",
   "metadata": {},
   "outputs": [
    {
     "name": "stdout",
     "output_type": "stream",
     "text": [
      "Loaded len(G.nodes)=198 musicians and len(G.edges)=2742 collaborations.\n"
     ]
    }
   ],
   "source": [
    "import datasets.jazz\n",
    "G = preprocess_graph(datasets.jazz.get_graph(), \"weight\")\n",
    "print(f\"Loaded {len(G.nodes)=} musicians and {len(G.edges)=} collaborations.\")"
   ]
  },
  {
   "cell_type": "code",
   "execution_count": 3,
   "id": "aafdc0d3",
   "metadata": {},
   "outputs": [
    {
     "name": "stdout",
     "output_type": "stream",
     "text": [
      "187 ms ± 14.6 ms per loop (mean ± std. dev. of 7 runs, 10 loops each)\n"
     ]
    }
   ],
   "source": [
    "𝓗 = Modularity(0.9)\n",
    "%timeit -r 7 -n 10 𝓟 = louvain(G, 𝓗)"
   ]
  },
  {
   "cell_type": "code",
   "execution_count": 4,
   "id": "709c80c1",
   "metadata": {},
   "outputs": [
    {
     "name": "stdout",
     "output_type": "stream",
     "text": [
      "25.8 ms ± 1.26 ms per loop (mean ± std. dev. of 7 runs, 10 loops each)\n"
     ]
    }
   ],
   "source": [
    "%timeit 𝓠 = Partition.from_partition(G, nx.community.louvain_communities(G, weight=\"weight\", resolution=0.9, seed=1))"
   ]
  },
  {
   "cell_type": "code",
   "execution_count": 5,
   "id": "ceebf653",
   "metadata": {
    "scrolled": true
   },
   "outputs": [
    {
     "data": {
      "text/plain": [
       "\"So we're only slower by a factor of 7.2480620155038755, compared to the implementation in NetworkX.\""
      ]
     },
     "execution_count": 5,
     "metadata": {},
     "output_type": "execute_result"
    }
   ],
   "source": [
    "factor = 187 / 25.8\n",
    "f\"So we're only slower by a factor of {factor}, compared to the implementation in NetworkX.\""
   ]
  },
  {
   "cell_type": "markdown",
   "id": "2ec175d3",
   "metadata": {},
   "source": [
    "Considering that the implementation in NetworkX is hardcoded to use the modularity metric and uses some tricks related to that that make the calculation of Δ𝓗 a bit faster, albeit limited to exactly the kinds of movement the Louvain algorithm will make of moving a node in a singleton community in another community, this is pretty good!"
   ]
  }
 ],
 "metadata": {
  "kernelspec": {
   "display_name": "Python 3 (ipykernel)",
   "language": "python",
   "name": "python3"
  },
  "language_info": {
   "codemirror_mode": {
    "name": "ipython",
    "version": 3
   },
   "file_extension": ".py",
   "mimetype": "text/x-python",
   "name": "python",
   "nbconvert_exporter": "python",
   "pygments_lexer": "ipython3",
   "version": "3.10.12"
  },
  "vscode": {
   "interpreter": {
    "hash": "3fe098a60de41da4d418149dd85333239847aa92272c8f79d3c6f03653219927"
   }
  }
 },
 "nbformat": 4,
 "nbformat_minor": 5
}
