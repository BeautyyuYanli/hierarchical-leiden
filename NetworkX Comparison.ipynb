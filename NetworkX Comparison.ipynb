{
 "cells": [
  {
   "cell_type": "markdown",
   "id": "388dc763-89b2-4c03-89ea-c033872e70c7",
   "metadata": {},
   "source": [
    "# Comparison with NetworkX' Modularity-based Louvain implementation"
   ]
  },
  {
   "cell_type": "markdown",
   "id": "3d39427d",
   "metadata": {},
   "source": [
    "In this notebook we'll compare our implementation of the Louvain algorithm (using Modularity) with the implementation in the NetworkX library.  \n",
    "While the former allows to use other quality functions instead, the latter uses some tricks and optimizations, which limit its use to Modularity only."
   ]
  },
  {
   "cell_type": "code",
   "execution_count": 1,
   "id": "fef6af20",
   "metadata": {},
   "outputs": [],
   "source": [
    "import random\n",
    "\n",
    "import networkx as nx\n",
    "\n",
    "from community_detection.utils import Partition, preprocess_graph\n",
    "from community_detection.leiden import leiden\n",
    "from community_detection.louvain import louvain\n",
    "from community_detection.quality_functions import CPM, Modularity\n",
    "\n",
    "random.seed(42)"
   ]
  },
  {
   "cell_type": "markdown",
   "id": "1f09635f",
   "metadata": {},
   "source": [
    "The Jazz graph dataset represents Jazz musicians as nodes and collaborations between the musicians as corresponding edges.\n",
    "It is provided by the `datasets.jazz` module:"
   ]
  },
  {
   "cell_type": "code",
   "execution_count": 2,
   "id": "2cd21b73",
   "metadata": {},
   "outputs": [
    {
     "name": "stdout",
     "output_type": "stream",
     "text": [
      "Loaded len(G.nodes)=198 musicians and len(G.edges)=2742 collaborations.\n"
     ]
    }
   ],
   "source": [
    "import datasets.jazz\n",
    "G = preprocess_graph(datasets.jazz.get_graph(), \"weight\")\n",
    "print(f\"Loaded {len(G.nodes)=} musicians and {len(G.edges)=} collaborations.\")"
   ]
  },
  {
   "cell_type": "markdown",
   "id": "ed9309eb",
   "metadata": {},
   "source": [
    "First, generate a baseline using the implementation in NetworkX and timing the calculation:"
   ]
  },
  {
   "cell_type": "code",
   "execution_count": 3,
   "id": "709c80c1",
   "metadata": {},
   "outputs": [
    {
     "name": "stdout",
     "output_type": "stream",
     "text": [
      "18.6 ms ± 2.26 ms per loop (mean ± std. dev. of 7 runs, 20 loops each)\n"
     ]
    }
   ],
   "source": [
    "%timeit -n 20 𝓠 = Partition.from_partition(G, nx.community.louvain_communities(G, weight=\"weight\", resolution=0.9))"
   ]
  },
  {
   "cell_type": "markdown",
   "id": "e0723d67",
   "metadata": {},
   "source": [
    "This measurement, using the `%timeit` command ran the line above a total of 140 times.  \n",
    "In the measurement above, running NetworkX' (highly optimized) Louvain implementation on the graph took 22.9 ms on average, with a standard deviation of 2.39 ms.\n",
    "\n",
    "Now, measure our implementation for comparison:"
   ]
  },
  {
   "cell_type": "code",
   "execution_count": 4,
   "id": "aafdc0d3",
   "metadata": {},
   "outputs": [
    {
     "name": "stdout",
     "output_type": "stream",
     "text": [
      "140 ms ± 1.93 ms per loop (mean ± std. dev. of 7 runs, 20 loops each)\n"
     ]
    }
   ],
   "source": [
    "𝓗 = Modularity(0.9)\n",
    "%timeit -n 20 𝓟 = louvain(G, 𝓗)"
   ]
  },
  {
   "cell_type": "markdown",
   "id": "2ec175d3",
   "metadata": {},
   "source": [
    "Thus, the runtime of our implementation, compared to the Modularity-specific implementation in NetworkX, and measured using the Jazz musician graph, is slower by a factor of"
   ]
  },
  {
   "cell_type": "code",
   "execution_count": 6,
   "id": "ceebf653",
   "metadata": {},
   "outputs": [
    {
     "data": {
      "text/plain": [
       "7.526881720430107"
      ]
     },
     "execution_count": 6,
     "metadata": {},
     "output_type": "execute_result"
    }
   ],
   "source": [
    "140 / 18.6"
   ]
  },
  {
   "cell_type": "markdown",
   "id": "a9fe5e0d-0fa2-4beb-b4e5-c85e8200f376",
   "metadata": {},
   "source": [
    "That's actually not too bad for such a readable and mostly straightforward implementation of the pseudocode, I'd say. 😁"
   ]
  }
 ],
 "metadata": {
  "kernelspec": {
   "display_name": "Python 3 (ipykernel)",
   "language": "python",
   "name": "python3"
  },
  "language_info": {
   "codemirror_mode": {
    "name": "ipython",
    "version": 3
   },
   "file_extension": ".py",
   "mimetype": "text/x-python",
   "name": "python",
   "nbconvert_exporter": "python",
   "pygments_lexer": "ipython3",
   "version": "3.10.13"
  },
  "vscode": {
   "interpreter": {
    "hash": "3fe098a60de41da4d418149dd85333239847aa92272c8f79d3c6f03653219927"
   }
  }
 },
 "nbformat": 4,
 "nbformat_minor": 5
}
