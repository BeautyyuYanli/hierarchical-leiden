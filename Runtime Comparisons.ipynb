{
 "cells": [
  {
   "cell_type": "markdown",
   "id": "388dc763-89b2-4c03-89ea-c033872e70c7",
   "metadata": {},
   "source": [
    "# Runtime experiments and comparisions"
   ]
  },
  {
   "cell_type": "markdown",
   "id": "3d39427d",
   "metadata": {},
   "source": [
    "This notebook explores the runtimes of our implementation with various graphs and also compares it with the implementation of the Louvain algorithm (with Modularity) in NetworkX.\n",
    "\n",
    "Running this experiment will likely take a few minutes!"
   ]
  },
  {
   "cell_type": "code",
   "execution_count": 1,
   "id": "fef6af20",
   "metadata": {},
   "outputs": [],
   "source": [
    "import itertools\n",
    "import random\n",
    "import timeit\n",
    "\n",
    "import networkx as nx\n",
    "\n",
    "import datasets.cora as cora, datasets.jazz as jazz, datasets.relativity as grcq\n",
    "\n",
    "from community_detection.leiden import leiden\n",
    "from community_detection.louvain import louvain\n",
    "from community_detection.quality_functions import CPM, Modularity\n",
    "\n",
    "random.seed(42)"
   ]
  },
  {
   "cell_type": "markdown",
   "id": "1f09635f",
   "metadata": {},
   "source": [
    "We begin by loading our test datasets / graphs:\n",
    "* The [Karate Club](https://www.journals.uchicago.edu/doi/abs/10.1086/jar.33.4.3629752?journalCode=jar) graph (34 nodes, 78 edges)\n",
    "* The [Jazz Musicians](https://www.worldscientific.com/doi/abs/10.1142/S0219525903001067) graph (198 nodes, 2742 edges)\n",
    "* The [Cora](https://www.openicpsr.org/openicpsr/project/100859/version/V1/view) citation graph (2708 nodes, 5278 edges)\n",
    "* The [Arxiv GR-QC](http://snap.stanford.edu/data/ca-GrQc.html) citation graph (5242 nodes, 14496 edges)"
   ]
  },
  {
   "cell_type": "code",
   "execution_count": 2,
   "id": "2cd21b73",
   "metadata": {},
   "outputs": [],
   "source": [
    "graphs = [ nx.karate_club_graph(), jazz.get_graph(), cora.get_graph(), grcq.get_graph() ]\n",
    "graph_names = [ 'Karate Club', 'Jazz Musicians', 'Cora Citations', 'Arxiv GR-QC' ]"
   ]
  },
  {
   "cell_type": "markdown",
   "id": "e0723d67",
   "metadata": {},
   "source": [
    "We're also preparing the algorithms we'll be using:\n",
    "\n",
    "* Our implementations of the Louvain and Leiden algorithms, with both Modularity and CPM as quality functions.\n",
    "* The (highly optimized) [implementation](https://networkx.org/documentation/stable/reference/algorithms/generated/networkx.algorithms.community.louvain.louvain_communities.html) of the Louvain algorithm (with Modularity) in the NetworkX library."
   ]
  },
  {
   "cell_type": "code",
   "execution_count": 3,
   "id": "aafdc0d3",
   "metadata": {},
   "outputs": [],
   "source": [
    "𝓗 = Modularity(1.0)\n",
    "\n",
    "fn_louvain_mod = lambda G: louvain(G, 𝓗)\n",
    "fn_leiden_mod  = lambda G: leiden(G, 𝓗)\n",
    "\n",
    "𝓗 = CPM(0.95)\n",
    "fn_louvain_cpm = lambda G: louvain(G, 𝓗)\n",
    "fn_leiden_cpm  = lambda G: leiden(G, 𝓗)\n",
    "\n",
    "fn_louvain_nwx = lambda G: nx.community.louvain_communities(G, seed=42)\n",
    "\n",
    "algorithms = [ fn_louvain_mod, fn_louvain_cpm, fn_leiden_mod, fn_leiden_cpm, fn_louvain_nwx ]\n",
    "algo_names = [ 'Louvain (Mod)', 'Louvain (CPM)', 'Leiden (Mod)', 'Leiden (CPM)', 'NetworkX' ]"
   ]
  },
  {
   "cell_type": "markdown",
   "id": "69c31546",
   "metadata": {},
   "source": [
    "For each combination of graph and algorithm, we determine the fastest runtime out of multiple (ten) runs.\n",
    "This is recommended by the [documentation of Python's timeit module](https://docs.python.org/3/library/timeit.html#timeit.Timer.repeat), in order to reduce the influence of other processes on the measured runtime."
   ]
  },
  {
   "cell_type": "code",
   "execution_count": 4,
   "id": "f150d3e0",
   "metadata": {},
   "outputs": [
    {
     "name": "stdout",
     "output_type": "stream",
     "text": [
      "Running Louvain (Mod) on Karate Club … execution time: ~ 0.003901 seconds.\n",
      "Running Louvain (CPM) on Karate Club … execution time: ~ 0.002972 seconds.\n",
      "Running Leiden (Mod) on Karate Club … execution time: ~ 0.005740 seconds.\n",
      "Running Leiden (CPM) on Karate Club … execution time: ~ 0.005965 seconds.\n",
      "Running NetworkX on Karate Club … execution time: ~ 0.001053 seconds.\n",
      "Running Louvain (Mod) on Jazz Musicians … execution time: ~ 0.108153 seconds.\n",
      "Running Louvain (CPM) on Jazz Musicians … execution time: ~ 0.120122 seconds.\n",
      "Running Leiden (Mod) on Jazz Musicians … execution time: ~ 0.151375 seconds.\n",
      "Running Leiden (CPM) on Jazz Musicians … execution time: ~ 0.157401 seconds.\n",
      "Running NetworkX on Jazz Musicians … execution time: ~ 0.021543 seconds.\n",
      "Running Louvain (Mod) on Cora Citations … execution time: ~ 0.628674 seconds.\n",
      "Running Louvain (CPM) on Cora Citations … execution time: ~ 0.630274 seconds.\n",
      "Running Leiden (Mod) on Cora Citations … execution time: ~ 4.126672 seconds.\n",
      "Running Leiden (CPM) on Cora Citations … execution time: ~ 4.064088 seconds.\n",
      "Running NetworkX on Cora Citations … execution time: ~ 0.124298 seconds.\n",
      "Running Louvain (Mod) on Arxiv GR-QC … execution time: ~ 1.793161 seconds.\n",
      "Running Louvain (CPM) on Arxiv GR-QC … execution time: ~ 1.682551 seconds.\n",
      "Running Leiden (Mod) on Arxiv GR-QC … execution time: ~ 9.254869 seconds.\n",
      "Running Leiden (CPM) on Arxiv GR-QC … execution time: ~ 10.568925 seconds.\n",
      "Running NetworkX on Arxiv GR-QC … execution time: ~ 0.276296 seconds.\n",
      "CPU times: user 6min 9s, sys: 74.8 ms, total: 6min 9s\n",
      "Wall time: 6min 10s\n"
     ]
    }
   ],
   "source": [
    "%%time\n",
    "\n",
    "times = {}\n",
    "\n",
    "for ((graph, g_name), (algo, a_name)) in itertools.product(zip(graphs, graph_names), zip(algorithms, algo_names)):\n",
    "    print(f\"Running {a_name} on {g_name} … \", end='')\n",
    "    # First, build a callable, that will repeatedly be run to measure the average execution time:\n",
    "    test_callable = lambda: algo(graph)\n",
    "    time = min(timeit.repeat(stmt=test_callable, repeat=10, number=1))\n",
    "    times[(algo,graph)] = time\n",
    "    print(f\"execution time: ~ {time:.6f} seconds.\")"
   ]
  },
  {
   "cell_type": "markdown",
   "id": "6b084a15",
   "metadata": {},
   "source": [
    "Let's print this in a nice table:"
   ]
  },
  {
   "cell_type": "code",
   "execution_count": 5,
   "id": "7ea2bc38",
   "metadata": {},
   "outputs": [
    {
     "name": "stdout",
     "output_type": "stream",
     "text": [
      "         Graph |  Karate Club   | Jazz Musicians | Cora Citations |  Arxiv GR-QC  \n",
      "      Size n/m |    34 / 78     |   198 / 2742   |  2708 / 5278   |  5242 / 14496 \n",
      " Louvain (Mod) |     0.003901 s |     0.108153 s |     0.628674 s |     1.793161 s\n",
      " Louvain (CPM) |     0.002972 s |     0.120122 s |     0.630274 s |     1.682551 s\n",
      "  Leiden (Mod) |     0.005740 s |     0.151375 s |     4.126672 s |     9.254869 s\n",
      "  Leiden (CPM) |     0.005965 s |     0.157401 s |     4.064088 s |    10.568925 s\n",
      "      NetworkX |     0.001053 s |     0.021543 s |     0.124298 s |     0.276296 s\n"
     ]
    }
   ],
   "source": [
    "print(f\"{'Graph'    : >14} | \" + (\" | \".join(f\"{name: ^14}\" for name in graph_names)))\n",
    "print(f\"{'Size n/m' : >14} | \" + (\" | \".join(f\"{str(G.order()) + ' / ' + str(G.size()): ^14}\" for G in graphs)))\n",
    "\n",
    "for algo, algo_name in zip(algorithms, algo_names):\n",
    "    print(f\"{algo_name: >14}\", end='')\n",
    "    for graph in graphs:\n",
    "        time = times[(algo, graph)]\n",
    "        print(f\" | {time: >12.6f} s\", end='')\n",
    "    print()"
   ]
  },
  {
   "cell_type": "markdown",
   "id": "1041a2f7",
   "metadata": {},
   "source": [
    "These tests were run on AMD Ryzen 7 PRO 5850U with 8 cores / 16 threads, running at 3.15 GHz on a system with 32 GB of RAM."
   ]
  }
 ],
 "metadata": {
  "kernelspec": {
   "display_name": "Python 3 (ipykernel)",
   "language": "python",
   "name": "python3"
  },
  "language_info": {
   "codemirror_mode": {
    "name": "ipython",
    "version": 3
   },
   "file_extension": ".py",
   "mimetype": "text/x-python",
   "name": "python",
   "nbconvert_exporter": "python",
   "pygments_lexer": "ipython3",
   "version": "3.11.6"
  },
  "vscode": {
   "interpreter": {
    "hash": "3fe098a60de41da4d418149dd85333239847aa92272c8f79d3c6f03653219927"
   }
  }
 },
 "nbformat": 4,
 "nbformat_minor": 5
}
